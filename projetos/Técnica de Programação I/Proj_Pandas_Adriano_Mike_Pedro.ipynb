{
  "cells": [
    {
      "cell_type": "markdown",
      "id": "8030d55b",
      "metadata": {
        "id": "8030d55b"
      },
      "source": [
        "# Projeto Técnicas de programação I\n",
        "\n",
        "## Análise exploratória de dados/Pandas\n",
        "\n",
        "Nomes: Adriano Gambetta, Mike Valente e Pedro Marques\n",
        "\n",
        "Turma: 970\n"
      ]
    },
    {
      "cell_type": "markdown",
      "id": "9d476103",
      "metadata": {
        "id": "9d476103"
      },
      "source": [
        "Nesse projeto trabalharemos com dados fictícios de investidores.\n",
        "\n",
        "São 3 arquivos que devem ser carregados para responder as perguntas abaixo.\n",
        "\n",
        "Para a entrega, coloque o notebook respondido no seu github (um por grupo)!"
      ]
    },
    {
      "cell_type": "markdown",
      "id": "ff348160",
      "metadata": {
        "id": "ff348160"
      },
      "source": [
        "Informações\n",
        "\n",
        "Cadastro:\n",
        "- **id** : Identificação do investidor\n",
        "- **Nome** : Nome completo do investidor \n",
        "- **Sexo** : Feminino ou masculino\n",
        "- **Nasc** : Data de nascimento\n",
        "- **Idade** : Idade do investidor \n",
        "- **Email** : E-mail do investidor\n",
        "- **Lat_long** : Dados geográficos do investidor\n",
        "- **Job** : Profisão do investidor ou do seu responsável (em inglês)\n",
        "- **Estado** : Estado onde o investidor reside\n",
        "\n",
        "Investimento:\n",
        "- **id** : Identificação do investidor\n",
        "- **Salario** : Renda do investidor ou seu responsável\n",
        "- **Perfil** : Perfil de investimento\n",
        "- **Ativo01, Ativo02, Ativo03, Ativo04, Ativo05, Ativo06, Ativo07** : O quanto de dinheiro o investidor colocou em cada ativo\n",
        "- **Nota1, Nota2** : O quanto o investidor está satisfeito com nossa empresa (2 avaliações)\n",
        "\n",
        "Lembrando que esses dados são irreais e fictícios\n"
      ]
    },
    {
      "cell_type": "markdown",
      "id": "2c93ad4b",
      "metadata": {
        "id": "2c93ad4b"
      },
      "source": [
        "Arquivo cadastro.csv\n",
        "\n",
        "\n",
        "Arquivo investimento.csv (dividido em 2 partes)"
      ]
    },
    {
      "cell_type": "markdown",
      "id": "ebdf2a14",
      "metadata": {
        "id": "ebdf2a14"
      },
      "source": [
        "### Critérios de avaliação\n",
        "\n",
        "Os seguintes itens serão avaliados:\n",
        "\n",
        "1. Reprodutibilidade do código: seu código será executado e precisa gerar os mesmos resultados apresentados por você;\n",
        "\n",
        "2. Clareza: seu código precisa ser claro e deve existir uma linha de raciocínio direta. Comente o código em pontos que julgar necessário para o entendimento total;\n",
        "\n",
        "3. Explicação de todos os processos feitos e decisões tomadas\n",
        "\n",
        "## Informações Gerais sobre o Projeto\n",
        "\n",
        "- O projeto poderá ser desenvolvido __individualmente__ ou em __grupos com até 4 pessoas__, caos façam em grupos enviar a relação de alunos do grupo para o professor;\n",
        "\n",
        "\n",
        "- Data de Entrega: 14/04/2023;\n",
        "\n",
        "- Entrega: Através do _Class_\n",
        "\n",
        "\n",
        "\n"
      ]
    },
    {
      "cell_type": "markdown",
      "id": "4ceb5d96",
      "metadata": {
        "id": "4ceb5d96"
      },
      "source": [
        "## 1 - Carregar os arquivos e cadastro, investimento1 e investimento2 e mostrar a quantidade de linhas de cada um, além das informações desses dataframes"
      ]
    },
    {
      "cell_type": "code",
      "execution_count": null,
      "id": "61c059ab",
      "metadata": {
        "ExecuteTime": {
          "end_time": "2021-08-16T13:30:14.809532Z",
          "start_time": "2021-08-16T13:30:14.801117Z"
        },
        "id": "61c059ab"
      },
      "outputs": [],
      "source": [
        "import pandas as pd\n",
        "import datetime as dt\n",
        "import numpy as np"
      ]
    },
    {
      "cell_type": "code",
      "execution_count": null,
      "id": "b84a9c1d",
      "metadata": {
        "id": "b84a9c1d"
      },
      "outputs": [],
      "source": [
        "cadastro=pd.read_csv('cadastro.csv')\n",
        "invest1=pd.read_csv('investimento_parte1.csv')\n",
        "invest2=pd.read_csv('investimento_parte2.csv')"
      ]
    },
    {
      "cell_type": "code",
      "execution_count": null,
      "id": "bbafe539",
      "metadata": {
        "colab": {
          "base_uri": "https://localhost:8080/"
        },
        "id": "bbafe539",
        "outputId": "73c6b705-8dcd-436d-bfd2-b0a77b381f72"
      },
      "outputs": [
        {
          "output_type": "stream",
          "name": "stdout",
          "text": [
            "Informações tabela de cadastro\n",
            "<class 'pandas.core.frame.DataFrame'>\n",
            "RangeIndex: 38754 entries, 0 to 38753\n",
            "Data columns (total 9 columns):\n",
            " #   Column    Non-Null Count  Dtype \n",
            "---  ------    --------------  ----- \n",
            " 0   id        38754 non-null  object\n",
            " 1   Nome      38754 non-null  object\n",
            " 2   Sexo      38754 non-null  object\n",
            " 3   Nasc      38754 non-null  object\n",
            " 4   Idade     38754 non-null  int64 \n",
            " 5   Email     38754 non-null  object\n",
            " 6   Lat_long  38754 non-null  object\n",
            " 7   Job       38754 non-null  object\n",
            " 8   Estado    38754 non-null  object\n",
            "dtypes: int64(1), object(8)\n",
            "memory usage: 2.7+ MB\n",
            "None\n",
            "--------------------------------\n",
            "Informações tabela de Investimento parte 1\n",
            "<class 'pandas.core.frame.DataFrame'>\n",
            "RangeIndex: 20000 entries, 0 to 19999\n",
            "Data columns (total 12 columns):\n",
            " #   Column   Non-Null Count  Dtype  \n",
            "---  ------   --------------  -----  \n",
            " 0   id       20000 non-null  object \n",
            " 1   Salario  20000 non-null  object \n",
            " 2   Perfil   20000 non-null  object \n",
            " 3   Ativo01  15012 non-null  float64\n",
            " 4   Ativo02  16857 non-null  float64\n",
            " 5   Ativo03  16760 non-null  float64\n",
            " 6   Ativo04  13799 non-null  float64\n",
            " 7   Ativo05  16829 non-null  float64\n",
            " 8   Ativo06  9895 non-null   float64\n",
            " 9   Ativo07  20000 non-null  float64\n",
            " 10  Nota1    18469 non-null  float64\n",
            " 11  Nota2    18954 non-null  float64\n",
            "dtypes: float64(9), object(3)\n",
            "memory usage: 1.8+ MB\n",
            "None\n",
            "--------------------------------\n",
            "Informações tabela de Investimento parte 2\n",
            "<class 'pandas.core.frame.DataFrame'>\n",
            "RangeIndex: 24052 entries, 0 to 24051\n",
            "Data columns (total 12 columns):\n",
            " #   Column   Non-Null Count  Dtype  \n",
            "---  ------   --------------  -----  \n",
            " 0   id       24052 non-null  object \n",
            " 1   Salario  24052 non-null  object \n",
            " 2   Perfil   24052 non-null  object \n",
            " 3   Ativo01  17994 non-null  float64\n",
            " 4   Ativo02  20245 non-null  float64\n",
            " 5   Ativo03  20249 non-null  float64\n",
            " 6   Ativo04  16685 non-null  float64\n",
            " 7   Ativo05  20211 non-null  float64\n",
            " 8   Ativo06  11932 non-null  float64\n",
            " 9   Ativo07  24052 non-null  float64\n",
            " 10  Nota1    22172 non-null  float64\n",
            " 11  Nota2    22810 non-null  float64\n",
            "dtypes: float64(9), object(3)\n",
            "memory usage: 2.2+ MB\n",
            "None\n"
          ]
        }
      ],
      "source": [
        "print('Informações tabela de cadastro')\n",
        "print(cadastro.info())\n",
        "print(32*'-')\n",
        "print('Informações tabela de Investimento parte 1')\n",
        "print(invest1.info())\n",
        "print(32*'-')\n",
        "print('Informações tabela de Investimento parte 2')\n",
        "print(invest2.info())"
      ]
    },
    {
      "cell_type": "markdown",
      "id": "de88ae37",
      "metadata": {
        "id": "de88ae37"
      },
      "source": [
        "## 2 - Juntar os dataframes de investimento1 e investimento2 em um só e ver a quantidade de linhas"
      ]
    },
    {
      "cell_type": "code",
      "execution_count": null,
      "id": "e2c363da",
      "metadata": {
        "id": "e2c363da"
      },
      "outputs": [],
      "source": [
        "invest=pd.concat([invest1, invest2],ignore_index=True)"
      ]
    },
    {
      "cell_type": "code",
      "execution_count": null,
      "id": "3bbf2ae1",
      "metadata": {
        "colab": {
          "base_uri": "https://localhost:8080/"
        },
        "id": "3bbf2ae1",
        "outputId": "482a9d30-7934-4666-bb3a-5d06118ab918"
      },
      "outputs": [
        {
          "output_type": "stream",
          "name": "stdout",
          "text": [
            "True\n",
            "Quantidade de linhas: 44052\n"
          ]
        }
      ],
      "source": [
        "#Checando se a soma das linhas das duas tabelas é igual a tabela após ser concatenada\n",
        "print(invest.shape[0]==invest1.shape[0]+invest2.shape[0])\n",
        "print(f\"Quantidade de linhas: {invest.shape[0]}\")"
      ]
    },
    {
      "cell_type": "markdown",
      "id": "9a49fb0d",
      "metadata": {
        "id": "9a49fb0d"
      },
      "source": [
        "## 3 - Crie um novo dataframe eliminando as linhas duplicadas"
      ]
    },
    {
      "cell_type": "code",
      "execution_count": null,
      "id": "9d26e5d9",
      "metadata": {
        "id": "9d26e5d9"
      },
      "outputs": [],
      "source": [
        "cadastro_clean=cadastro.drop_duplicates()\n",
        "invest_clean=invest.drop_duplicates(ignore_index=True)"
      ]
    },
    {
      "cell_type": "markdown",
      "id": "d5c4abc4",
      "metadata": {
        "id": "d5c4abc4"
      },
      "source": [
        "## 4 - Junte o dataframe de investimento com o de cadastro\n",
        "Dica: use a chave id"
      ]
    },
    {
      "cell_type": "code",
      "execution_count": null,
      "id": "f21d58b4",
      "metadata": {
        "id": "f21d58b4"
      },
      "outputs": [],
      "source": [
        "df=cadastro_clean.merge(invest_clean,how='inner',on='id')"
      ]
    },
    {
      "cell_type": "markdown",
      "id": "0ce78c5c",
      "metadata": {
        "ExecuteTime": {
          "end_time": "2021-08-16T13:13:10.973171Z",
          "start_time": "2021-08-16T13:13:10.961165Z"
        },
        "id": "0ce78c5c"
      },
      "source": [
        "## 5 - Ordene o dataframe pelo id, de forma crescente e redefina o índice"
      ]
    },
    {
      "cell_type": "code",
      "execution_count": null,
      "id": "4d97062c",
      "metadata": {
        "id": "4d97062c"
      },
      "outputs": [],
      "source": [
        "df_id=df.sort_values(by='id',ignore_index=True)"
      ]
    },
    {
      "cell_type": "markdown",
      "id": "c22a9a29",
      "metadata": {
        "id": "c22a9a29"
      },
      "source": [
        "## 6 - Faça uma análise dos dados faltantes e trate-os\n",
        "\n",
        "Mostre todas as colunas com dados faltantes, sua quantidade/porcentagem e como tratar (preencher) cada uma delas explicando sua estratégia"
      ]
    },
    {
      "cell_type": "code",
      "execution_count": null,
      "id": "c4bb5d14",
      "metadata": {
        "id": "c4bb5d14",
        "colab": {
          "base_uri": "https://localhost:8080/"
        },
        "outputId": "c796edf8-6a1c-4927-ce18-d26dae9bde8c"
      },
      "outputs": [
        {
          "output_type": "stream",
          "name": "stdout",
          "text": [
            "Quantidade de valores nulos\n"
          ]
        },
        {
          "output_type": "execute_result",
          "data": {
            "text/plain": [
              "id              0\n",
              "Nome            0\n",
              "Sexo            0\n",
              "Nasc            0\n",
              "Idade           0\n",
              "Email           0\n",
              "Lat_long        0\n",
              "Job             0\n",
              "Estado          0\n",
              "Salario         0\n",
              "Perfil          0\n",
              "Ativo01      9724\n",
              "Ativo02      6100\n",
              "Ativo03      6169\n",
              "Ativo04     11887\n",
              "Ativo05      6191\n",
              "Ativo06     19514\n",
              "Ativo07         0\n",
              "Nota1        3000\n",
              "Nota2        2000\n",
              "dtype: int64"
            ]
          },
          "metadata": {},
          "execution_count": 14
        }
      ],
      "source": [
        "print(\"Quantidade de valores nulos\")\n",
        "df_id.isna().sum()"
      ]
    },
    {
      "cell_type": "code",
      "execution_count": null,
      "id": "dd8c7da3",
      "metadata": {
        "colab": {
          "base_uri": "https://localhost:8080/"
        },
        "id": "dd8c7da3",
        "outputId": "2d2422d3-5144-4933-e733-5a6cebedf749"
      },
      "outputs": [
        {
          "output_type": "stream",
          "name": "stdout",
          "text": [
            "Porcentagem de valores nulos\n"
          ]
        },
        {
          "output_type": "execute_result",
          "data": {
            "text/plain": [
              "id          0.000000\n",
              "Nome        0.000000\n",
              "Sexo        0.000000\n",
              "Nasc        0.000000\n",
              "Idade       0.000000\n",
              "Email       0.000000\n",
              "Lat_long    0.000000\n",
              "Job         0.000000\n",
              "Estado      0.000000\n",
              "Salario     0.000000\n",
              "Perfil      0.000000\n",
              "Ativo01     0.250916\n",
              "Ativo02     0.157403\n",
              "Ativo03     0.159184\n",
              "Ativo04     0.306730\n",
              "Ativo05     0.159751\n",
              "Ativo06     0.503535\n",
              "Ativo07     0.000000\n",
              "Nota1       0.077411\n",
              "Nota2       0.051608\n",
              "dtype: float64"
            ]
          },
          "metadata": {},
          "execution_count": 15
        }
      ],
      "source": [
        "print(\"Porcentagem de valores nulos\")\n",
        "df_id.isna().sum()/df_id.shape[0]"
      ]
    },
    {
      "cell_type": "code",
      "execution_count": null,
      "id": "4e87a662",
      "metadata": {
        "colab": {
          "base_uri": "https://localhost:8080/",
          "height": 49
        },
        "id": "4e87a662",
        "outputId": "781cf997-3012-43c1-a1ce-66e9c573198d"
      },
      "outputs": [
        {
          "output_type": "execute_result",
          "data": {
            "text/plain": [
              "Empty DataFrame\n",
              "Columns: [id, Nome, Sexo, Nasc, Idade, Email, Lat_long, Job, Estado, Salario, Perfil, Ativo01, Ativo02, Ativo03, Ativo04, Ativo05, Ativo06, Ativo07, Nota1, Nota2]\n",
              "Index: []"
            ],
            "text/html": [
              "\n",
              "  <div id=\"df-62585dfb-c417-4d8b-9d3b-d21af8a94121\">\n",
              "    <div class=\"colab-df-container\">\n",
              "      <div>\n",
              "<style scoped>\n",
              "    .dataframe tbody tr th:only-of-type {\n",
              "        vertical-align: middle;\n",
              "    }\n",
              "\n",
              "    .dataframe tbody tr th {\n",
              "        vertical-align: top;\n",
              "    }\n",
              "\n",
              "    .dataframe thead th {\n",
              "        text-align: right;\n",
              "    }\n",
              "</style>\n",
              "<table border=\"1\" class=\"dataframe\">\n",
              "  <thead>\n",
              "    <tr style=\"text-align: right;\">\n",
              "      <th></th>\n",
              "      <th>id</th>\n",
              "      <th>Nome</th>\n",
              "      <th>Sexo</th>\n",
              "      <th>Nasc</th>\n",
              "      <th>Idade</th>\n",
              "      <th>Email</th>\n",
              "      <th>Lat_long</th>\n",
              "      <th>Job</th>\n",
              "      <th>Estado</th>\n",
              "      <th>Salario</th>\n",
              "      <th>Perfil</th>\n",
              "      <th>Ativo01</th>\n",
              "      <th>Ativo02</th>\n",
              "      <th>Ativo03</th>\n",
              "      <th>Ativo04</th>\n",
              "      <th>Ativo05</th>\n",
              "      <th>Ativo06</th>\n",
              "      <th>Ativo07</th>\n",
              "      <th>Nota1</th>\n",
              "      <th>Nota2</th>\n",
              "    </tr>\n",
              "  </thead>\n",
              "  <tbody>\n",
              "  </tbody>\n",
              "</table>\n",
              "</div>\n",
              "      <button class=\"colab-df-convert\" onclick=\"convertToInteractive('df-62585dfb-c417-4d8b-9d3b-d21af8a94121')\"\n",
              "              title=\"Convert this dataframe to an interactive table.\"\n",
              "              style=\"display:none;\">\n",
              "        \n",
              "  <svg xmlns=\"http://www.w3.org/2000/svg\" height=\"24px\"viewBox=\"0 0 24 24\"\n",
              "       width=\"24px\">\n",
              "    <path d=\"M0 0h24v24H0V0z\" fill=\"none\"/>\n",
              "    <path d=\"M18.56 5.44l.94 2.06.94-2.06 2.06-.94-2.06-.94-.94-2.06-.94 2.06-2.06.94zm-11 1L8.5 8.5l.94-2.06 2.06-.94-2.06-.94L8.5 2.5l-.94 2.06-2.06.94zm10 10l.94 2.06.94-2.06 2.06-.94-2.06-.94-.94-2.06-.94 2.06-2.06.94z\"/><path d=\"M17.41 7.96l-1.37-1.37c-.4-.4-.92-.59-1.43-.59-.52 0-1.04.2-1.43.59L10.3 9.45l-7.72 7.72c-.78.78-.78 2.05 0 2.83L4 21.41c.39.39.9.59 1.41.59.51 0 1.02-.2 1.41-.59l7.78-7.78 2.81-2.81c.8-.78.8-2.07 0-2.86zM5.41 20L4 18.59l7.72-7.72 1.47 1.35L5.41 20z\"/>\n",
              "  </svg>\n",
              "      </button>\n",
              "      \n",
              "  <style>\n",
              "    .colab-df-container {\n",
              "      display:flex;\n",
              "      flex-wrap:wrap;\n",
              "      gap: 12px;\n",
              "    }\n",
              "\n",
              "    .colab-df-convert {\n",
              "      background-color: #E8F0FE;\n",
              "      border: none;\n",
              "      border-radius: 50%;\n",
              "      cursor: pointer;\n",
              "      display: none;\n",
              "      fill: #1967D2;\n",
              "      height: 32px;\n",
              "      padding: 0 0 0 0;\n",
              "      width: 32px;\n",
              "    }\n",
              "\n",
              "    .colab-df-convert:hover {\n",
              "      background-color: #E2EBFA;\n",
              "      box-shadow: 0px 1px 2px rgba(60, 64, 67, 0.3), 0px 1px 3px 1px rgba(60, 64, 67, 0.15);\n",
              "      fill: #174EA6;\n",
              "    }\n",
              "\n",
              "    [theme=dark] .colab-df-convert {\n",
              "      background-color: #3B4455;\n",
              "      fill: #D2E3FC;\n",
              "    }\n",
              "\n",
              "    [theme=dark] .colab-df-convert:hover {\n",
              "      background-color: #434B5C;\n",
              "      box-shadow: 0px 1px 3px 1px rgba(0, 0, 0, 0.15);\n",
              "      filter: drop-shadow(0px 1px 2px rgba(0, 0, 0, 0.3));\n",
              "      fill: #FFFFFF;\n",
              "    }\n",
              "  </style>\n",
              "\n",
              "      <script>\n",
              "        const buttonEl =\n",
              "          document.querySelector('#df-62585dfb-c417-4d8b-9d3b-d21af8a94121 button.colab-df-convert');\n",
              "        buttonEl.style.display =\n",
              "          google.colab.kernel.accessAllowed ? 'block' : 'none';\n",
              "\n",
              "        async function convertToInteractive(key) {\n",
              "          const element = document.querySelector('#df-62585dfb-c417-4d8b-9d3b-d21af8a94121');\n",
              "          const dataTable =\n",
              "            await google.colab.kernel.invokeFunction('convertToInteractive',\n",
              "                                                     [key], {});\n",
              "          if (!dataTable) return;\n",
              "\n",
              "          const docLinkHtml = 'Like what you see? Visit the ' +\n",
              "            '<a target=\"_blank\" href=https://colab.research.google.com/notebooks/data_table.ipynb>data table notebook</a>'\n",
              "            + ' to learn more about interactive tables.';\n",
              "          element.innerHTML = '';\n",
              "          dataTable['output_type'] = 'display_data';\n",
              "          await google.colab.output.renderOutput(dataTable, element);\n",
              "          const docLink = document.createElement('div');\n",
              "          docLink.innerHTML = docLinkHtml;\n",
              "          element.appendChild(docLink);\n",
              "        }\n",
              "      </script>\n",
              "    </div>\n",
              "  </div>\n",
              "  "
            ]
          },
          "metadata": {},
          "execution_count": 16
        }
      ],
      "source": [
        "df_id[(df_id['Ativo01']==0) | (df_id['Ativo02']==0) | (df_id['Ativo03']==0) | (df_id['Ativo04']==0) | (df_id['Ativo05']==0) | (df_id['Ativo06']==0)]"
      ]
    },
    {
      "cell_type": "code",
      "execution_count": null,
      "id": "37097da1",
      "metadata": {
        "id": "37097da1"
      },
      "outputs": [],
      "source": [
        "#Como não existem valores zerados para as colunas de ativos, consideramos que os valores NaN representam que os clientes não investiram nesses ativos, então substituiremos NaN por 0.\n",
        "df_id[['Ativo01','Ativo02','Ativo03','Ativo04','Ativo05','Ativo06','Ativo07']]=df_id[['Ativo01','Ativo02','Ativo03','Ativo04','Ativo05','Ativo06','Ativo07']].fillna(0)"
      ]
    },
    {
      "cell_type": "code",
      "execution_count": null,
      "id": "5812651e",
      "metadata": {
        "id": "5812651e"
      },
      "outputs": [],
      "source": [
        "#Substituiremos os valores NaN pela média, para que a falta de avaliação do usuário não impacte na média das avaliações.\n",
        "df_id[['Nota1','Nota2']]=df_id[['Nota1','Nota2']].fillna(df_id[['Nota1','Nota2']].mean())"
      ]
    },
    {
      "cell_type": "code",
      "execution_count": null,
      "id": "d1929c37",
      "metadata": {
        "colab": {
          "base_uri": "https://localhost:8080/"
        },
        "id": "d1929c37",
        "outputId": "724c7855-8992-490d-a9db-f259d501eefe"
      },
      "outputs": [
        {
          "output_type": "stream",
          "name": "stdout",
          "text": [
            "<class 'pandas.core.frame.DataFrame'>\n",
            "RangeIndex: 38754 entries, 0 to 38753\n",
            "Data columns (total 20 columns):\n",
            " #   Column    Non-Null Count  Dtype  \n",
            "---  ------    --------------  -----  \n",
            " 0   id        38754 non-null  object \n",
            " 1   Nome      38754 non-null  object \n",
            " 2   Sexo      38754 non-null  object \n",
            " 3   Nasc      38754 non-null  object \n",
            " 4   Idade     38754 non-null  int64  \n",
            " 5   Email     38754 non-null  object \n",
            " 6   Lat_long  38754 non-null  object \n",
            " 7   Job       38754 non-null  object \n",
            " 8   Estado    38754 non-null  object \n",
            " 9   Salario   38754 non-null  object \n",
            " 10  Perfil    38754 non-null  object \n",
            " 11  Ativo01   38754 non-null  float64\n",
            " 12  Ativo02   38754 non-null  float64\n",
            " 13  Ativo03   38754 non-null  float64\n",
            " 14  Ativo04   38754 non-null  float64\n",
            " 15  Ativo05   38754 non-null  float64\n",
            " 16  Ativo06   38754 non-null  float64\n",
            " 17  Ativo07   38754 non-null  float64\n",
            " 18  Nota1     38754 non-null  float64\n",
            " 19  Nota2     38754 non-null  float64\n",
            "dtypes: float64(9), int64(1), object(10)\n",
            "memory usage: 5.9+ MB\n"
          ]
        }
      ],
      "source": [
        "df_id.info()"
      ]
    },
    {
      "cell_type": "markdown",
      "id": "85ae4e81",
      "metadata": {
        "id": "85ae4e81"
      },
      "source": [
        "## 7 - Manipule os dados a seguir:\n",
        "- Criar coluna \"Total\" somando o valor de todos os ativos por investidor\n",
        "- Criar coluna \"Media\" com a média das notas 1 e 2\n",
        "- Criar coluna \"Dominio\" com apenas o domínio do email (dica: separar por @)\n",
        "- Mudar o nome da coluna \"Salário\" para \"Renda\" e tratar a coluna (sem caracter $ e tipo numérica)\n",
        "- Mudar os dados da coluna \"Sexo\" para Masculino e Feminino (tente usar o map)\n",
        "- Transformar os dados da coluna Media em inteiro\n",
        "- Criar coluna \"NPS\" onde o investidor é promotor se a média das notas é maior igual a 80, neutro se a média estiver entre 50 e 80, e detrator se for abaixo de 50\n"
      ]
    },
    {
      "cell_type": "code",
      "execution_count": null,
      "id": "aa4cff9b",
      "metadata": {
        "colab": {
          "base_uri": "https://localhost:8080/",
          "height": 939
        },
        "id": "aa4cff9b",
        "outputId": "116e62c9-6d5c-4a27-f601-eee1c6118752"
      },
      "outputs": [
        {
          "output_type": "execute_result",
          "data": {
            "text/plain": [
              "              id                                Nome  Sexo        Nasc  Idade  \\\n",
              "0      id0000001               Eunice Hellen do Vale   Fem  1970-11-12     51   \n",
              "1      id0000002     Sebastião Castelo Branco Júnior  Masc  2019-12-10      2   \n",
              "2      id0000003           Romildo Fábio de Carvalho  Masc  2015-12-28      6   \n",
              "3      id0000004           Lana Albina de Lemos Mumy   Fem  1993-05-03     28   \n",
              "4      id0000005    Rose Elisângela Vyrnium de Moura   Fem  1984-06-10     37   \n",
              "...          ...                                 ...   ...         ...    ...   \n",
              "38749  id0038750     Beatriz Maísa de Miranda Milani   Fem  1999-02-20     22   \n",
              "38750  id0038751                     Juan dos Santos  Masc  1999-07-10     22   \n",
              "38751  id0038752       Severino Edson de Viana Loase  Masc  1981-12-01     40   \n",
              "38752  id0038753                          Kim Mooshi  Masc  1999-12-06     22   \n",
              "38753  id0038754  Vinícius Arnaldo de Pereira Mendes  Masc  2003-09-13     18   \n",
              "\n",
              "                         Email  \\\n",
              "0             djones@yahoo.com   \n",
              "1       barnesandrea@yahoo.com   \n",
              "2      walkermichael@yahoo.com   \n",
              "3       cobbangela@hotmail.com   \n",
              "4      crawfordcraig@yahoo.com   \n",
              "...                        ...   \n",
              "38749         mark47@gmail.com   \n",
              "38750  greggnguyen@hotmail.com   \n",
              "38751        cindy11@yahoo.com   \n",
              "38752  mcdonaldmario@gmail.com   \n",
              "38753    omartinez@hotmail.com   \n",
              "\n",
              "                                              Lat_long  \\\n",
              "0       (Decimal('24.7024355'), Decimal('-28.038258'))   \n",
              "1       (Decimal('21.8589875'), Decimal('122.830566'))   \n",
              "2       (Decimal('-28.2161525'), Decimal('97.140529'))   \n",
              "3       (Decimal('-40.8557635'), Decimal('-2.936099'))   \n",
              "4      (Decimal('-20.2620885'), Decimal('104.349223'))   \n",
              "...                                                ...   \n",
              "38749  (Decimal('-23.8494875'), Decimal('-91.561304'))   \n",
              "38750   (Decimal('-7.8876355'), Decimal('155.835880'))   \n",
              "38751  (Decimal('-52.1338005'), Decimal('-59.715325'))   \n",
              "38752  (Decimal('-81.2874995'), Decimal('-28.805800'))   \n",
              "38753     (Decimal('-37.248521'), Decimal('6.033254'))   \n",
              "\n",
              "                                         Job Estado    Salario       Perfil  \\\n",
              "0                           Technical author     TO     $63.67     Moderado   \n",
              "1                       Biochemist, clinical     DF     $21.96     Moderado   \n",
              "2      Development worker, international aid     DF  $62497.64    Agressivo   \n",
              "3                  Estate manager/land agent     DF  $99878.74    Agressivo   \n",
              "4        Chartered public finance accountant     MS    $188.01  Conservador   \n",
              "...                                      ...    ...        ...          ...   \n",
              "38749             Further education lecturer     RS   $4993.49     Moderado   \n",
              "38750                  Adult guidance worker     PI  $41218.63     Moderado   \n",
              "38751               Arts development officer     PR     $32.41    Agressivo   \n",
              "38752                     Production manager     RJ    $914.52  Conservador   \n",
              "38753                 Pension scheme manager     AL  $29076.19     Moderado   \n",
              "\n",
              "       Ativo01  Ativo02  Ativo03   Ativo04  Ativo05  Ativo06  Ativo07  \\\n",
              "0      1174.27  4980.98  2638.24      0.00  4480.91  2329.72   480.72   \n",
              "1       842.12  5646.09  3336.07      0.00  5624.22  2669.98   504.17   \n",
              "2       818.81  5516.52  3396.64      0.00  5033.83  2229.45   523.12   \n",
              "3         0.00  5258.69  3723.10      0.00  5933.91     0.00   486.05   \n",
              "4      1505.16  6415.30  3462.67  30841.35  6044.86  2198.89   512.98   \n",
              "...        ...      ...      ...       ...      ...      ...      ...   \n",
              "38749  1001.01  5561.55     0.00   8454.99     0.00  2191.78   489.76   \n",
              "38750  1532.51  5102.84  3097.50  11243.08  4692.11  2368.93   496.02   \n",
              "38751  1163.90  4911.63  3746.62      0.00  6733.79  2338.43   504.32   \n",
              "38752     0.00  5532.35  2861.32      0.00  4921.77  2024.00   500.65   \n",
              "38753   981.62  4825.10     0.00  18085.88  5161.07  2257.66   507.95   \n",
              "\n",
              "           Nota1      Nota2  \n",
              "0      79.600372   9.802620  \n",
              "1      44.406893  90.512871  \n",
              "2      44.020024  65.060941  \n",
              "3      25.597924  86.548918  \n",
              "4      14.463307  33.566292  \n",
              "...          ...        ...  \n",
              "38749  66.644257   6.462871  \n",
              "38750  96.987294  72.333030  \n",
              "38751  32.139610  22.742974  \n",
              "38752  98.385080  56.611838  \n",
              "38753  29.660050  47.371606  \n",
              "\n",
              "[38754 rows x 20 columns]"
            ],
            "text/html": [
              "\n",
              "  <div id=\"df-b7708365-e982-4a87-a0b1-8afbefa455d4\">\n",
              "    <div class=\"colab-df-container\">\n",
              "      <div>\n",
              "<style scoped>\n",
              "    .dataframe tbody tr th:only-of-type {\n",
              "        vertical-align: middle;\n",
              "    }\n",
              "\n",
              "    .dataframe tbody tr th {\n",
              "        vertical-align: top;\n",
              "    }\n",
              "\n",
              "    .dataframe thead th {\n",
              "        text-align: right;\n",
              "    }\n",
              "</style>\n",
              "<table border=\"1\" class=\"dataframe\">\n",
              "  <thead>\n",
              "    <tr style=\"text-align: right;\">\n",
              "      <th></th>\n",
              "      <th>id</th>\n",
              "      <th>Nome</th>\n",
              "      <th>Sexo</th>\n",
              "      <th>Nasc</th>\n",
              "      <th>Idade</th>\n",
              "      <th>Email</th>\n",
              "      <th>Lat_long</th>\n",
              "      <th>Job</th>\n",
              "      <th>Estado</th>\n",
              "      <th>Salario</th>\n",
              "      <th>Perfil</th>\n",
              "      <th>Ativo01</th>\n",
              "      <th>Ativo02</th>\n",
              "      <th>Ativo03</th>\n",
              "      <th>Ativo04</th>\n",
              "      <th>Ativo05</th>\n",
              "      <th>Ativo06</th>\n",
              "      <th>Ativo07</th>\n",
              "      <th>Nota1</th>\n",
              "      <th>Nota2</th>\n",
              "    </tr>\n",
              "  </thead>\n",
              "  <tbody>\n",
              "    <tr>\n",
              "      <th>0</th>\n",
              "      <td>id0000001</td>\n",
              "      <td>Eunice Hellen do Vale</td>\n",
              "      <td>Fem</td>\n",
              "      <td>1970-11-12</td>\n",
              "      <td>51</td>\n",
              "      <td>djones@yahoo.com</td>\n",
              "      <td>(Decimal('24.7024355'), Decimal('-28.038258'))</td>\n",
              "      <td>Technical author</td>\n",
              "      <td>TO</td>\n",
              "      <td>$63.67</td>\n",
              "      <td>Moderado</td>\n",
              "      <td>1174.27</td>\n",
              "      <td>4980.98</td>\n",
              "      <td>2638.24</td>\n",
              "      <td>0.00</td>\n",
              "      <td>4480.91</td>\n",
              "      <td>2329.72</td>\n",
              "      <td>480.72</td>\n",
              "      <td>79.600372</td>\n",
              "      <td>9.802620</td>\n",
              "    </tr>\n",
              "    <tr>\n",
              "      <th>1</th>\n",
              "      <td>id0000002</td>\n",
              "      <td>Sebastião Castelo Branco Júnior</td>\n",
              "      <td>Masc</td>\n",
              "      <td>2019-12-10</td>\n",
              "      <td>2</td>\n",
              "      <td>barnesandrea@yahoo.com</td>\n",
              "      <td>(Decimal('21.8589875'), Decimal('122.830566'))</td>\n",
              "      <td>Biochemist, clinical</td>\n",
              "      <td>DF</td>\n",
              "      <td>$21.96</td>\n",
              "      <td>Moderado</td>\n",
              "      <td>842.12</td>\n",
              "      <td>5646.09</td>\n",
              "      <td>3336.07</td>\n",
              "      <td>0.00</td>\n",
              "      <td>5624.22</td>\n",
              "      <td>2669.98</td>\n",
              "      <td>504.17</td>\n",
              "      <td>44.406893</td>\n",
              "      <td>90.512871</td>\n",
              "    </tr>\n",
              "    <tr>\n",
              "      <th>2</th>\n",
              "      <td>id0000003</td>\n",
              "      <td>Romildo Fábio de Carvalho</td>\n",
              "      <td>Masc</td>\n",
              "      <td>2015-12-28</td>\n",
              "      <td>6</td>\n",
              "      <td>walkermichael@yahoo.com</td>\n",
              "      <td>(Decimal('-28.2161525'), Decimal('97.140529'))</td>\n",
              "      <td>Development worker, international aid</td>\n",
              "      <td>DF</td>\n",
              "      <td>$62497.64</td>\n",
              "      <td>Agressivo</td>\n",
              "      <td>818.81</td>\n",
              "      <td>5516.52</td>\n",
              "      <td>3396.64</td>\n",
              "      <td>0.00</td>\n",
              "      <td>5033.83</td>\n",
              "      <td>2229.45</td>\n",
              "      <td>523.12</td>\n",
              "      <td>44.020024</td>\n",
              "      <td>65.060941</td>\n",
              "    </tr>\n",
              "    <tr>\n",
              "      <th>3</th>\n",
              "      <td>id0000004</td>\n",
              "      <td>Lana Albina de Lemos Mumy</td>\n",
              "      <td>Fem</td>\n",
              "      <td>1993-05-03</td>\n",
              "      <td>28</td>\n",
              "      <td>cobbangela@hotmail.com</td>\n",
              "      <td>(Decimal('-40.8557635'), Decimal('-2.936099'))</td>\n",
              "      <td>Estate manager/land agent</td>\n",
              "      <td>DF</td>\n",
              "      <td>$99878.74</td>\n",
              "      <td>Agressivo</td>\n",
              "      <td>0.00</td>\n",
              "      <td>5258.69</td>\n",
              "      <td>3723.10</td>\n",
              "      <td>0.00</td>\n",
              "      <td>5933.91</td>\n",
              "      <td>0.00</td>\n",
              "      <td>486.05</td>\n",
              "      <td>25.597924</td>\n",
              "      <td>86.548918</td>\n",
              "    </tr>\n",
              "    <tr>\n",
              "      <th>4</th>\n",
              "      <td>id0000005</td>\n",
              "      <td>Rose Elisângela Vyrnium de Moura</td>\n",
              "      <td>Fem</td>\n",
              "      <td>1984-06-10</td>\n",
              "      <td>37</td>\n",
              "      <td>crawfordcraig@yahoo.com</td>\n",
              "      <td>(Decimal('-20.2620885'), Decimal('104.349223'))</td>\n",
              "      <td>Chartered public finance accountant</td>\n",
              "      <td>MS</td>\n",
              "      <td>$188.01</td>\n",
              "      <td>Conservador</td>\n",
              "      <td>1505.16</td>\n",
              "      <td>6415.30</td>\n",
              "      <td>3462.67</td>\n",
              "      <td>30841.35</td>\n",
              "      <td>6044.86</td>\n",
              "      <td>2198.89</td>\n",
              "      <td>512.98</td>\n",
              "      <td>14.463307</td>\n",
              "      <td>33.566292</td>\n",
              "    </tr>\n",
              "    <tr>\n",
              "      <th>...</th>\n",
              "      <td>...</td>\n",
              "      <td>...</td>\n",
              "      <td>...</td>\n",
              "      <td>...</td>\n",
              "      <td>...</td>\n",
              "      <td>...</td>\n",
              "      <td>...</td>\n",
              "      <td>...</td>\n",
              "      <td>...</td>\n",
              "      <td>...</td>\n",
              "      <td>...</td>\n",
              "      <td>...</td>\n",
              "      <td>...</td>\n",
              "      <td>...</td>\n",
              "      <td>...</td>\n",
              "      <td>...</td>\n",
              "      <td>...</td>\n",
              "      <td>...</td>\n",
              "      <td>...</td>\n",
              "      <td>...</td>\n",
              "    </tr>\n",
              "    <tr>\n",
              "      <th>38749</th>\n",
              "      <td>id0038750</td>\n",
              "      <td>Beatriz Maísa de Miranda Milani</td>\n",
              "      <td>Fem</td>\n",
              "      <td>1999-02-20</td>\n",
              "      <td>22</td>\n",
              "      <td>mark47@gmail.com</td>\n",
              "      <td>(Decimal('-23.8494875'), Decimal('-91.561304'))</td>\n",
              "      <td>Further education lecturer</td>\n",
              "      <td>RS</td>\n",
              "      <td>$4993.49</td>\n",
              "      <td>Moderado</td>\n",
              "      <td>1001.01</td>\n",
              "      <td>5561.55</td>\n",
              "      <td>0.00</td>\n",
              "      <td>8454.99</td>\n",
              "      <td>0.00</td>\n",
              "      <td>2191.78</td>\n",
              "      <td>489.76</td>\n",
              "      <td>66.644257</td>\n",
              "      <td>6.462871</td>\n",
              "    </tr>\n",
              "    <tr>\n",
              "      <th>38750</th>\n",
              "      <td>id0038751</td>\n",
              "      <td>Juan dos Santos</td>\n",
              "      <td>Masc</td>\n",
              "      <td>1999-07-10</td>\n",
              "      <td>22</td>\n",
              "      <td>greggnguyen@hotmail.com</td>\n",
              "      <td>(Decimal('-7.8876355'), Decimal('155.835880'))</td>\n",
              "      <td>Adult guidance worker</td>\n",
              "      <td>PI</td>\n",
              "      <td>$41218.63</td>\n",
              "      <td>Moderado</td>\n",
              "      <td>1532.51</td>\n",
              "      <td>5102.84</td>\n",
              "      <td>3097.50</td>\n",
              "      <td>11243.08</td>\n",
              "      <td>4692.11</td>\n",
              "      <td>2368.93</td>\n",
              "      <td>496.02</td>\n",
              "      <td>96.987294</td>\n",
              "      <td>72.333030</td>\n",
              "    </tr>\n",
              "    <tr>\n",
              "      <th>38751</th>\n",
              "      <td>id0038752</td>\n",
              "      <td>Severino Edson de Viana Loase</td>\n",
              "      <td>Masc</td>\n",
              "      <td>1981-12-01</td>\n",
              "      <td>40</td>\n",
              "      <td>cindy11@yahoo.com</td>\n",
              "      <td>(Decimal('-52.1338005'), Decimal('-59.715325'))</td>\n",
              "      <td>Arts development officer</td>\n",
              "      <td>PR</td>\n",
              "      <td>$32.41</td>\n",
              "      <td>Agressivo</td>\n",
              "      <td>1163.90</td>\n",
              "      <td>4911.63</td>\n",
              "      <td>3746.62</td>\n",
              "      <td>0.00</td>\n",
              "      <td>6733.79</td>\n",
              "      <td>2338.43</td>\n",
              "      <td>504.32</td>\n",
              "      <td>32.139610</td>\n",
              "      <td>22.742974</td>\n",
              "    </tr>\n",
              "    <tr>\n",
              "      <th>38752</th>\n",
              "      <td>id0038753</td>\n",
              "      <td>Kim Mooshi</td>\n",
              "      <td>Masc</td>\n",
              "      <td>1999-12-06</td>\n",
              "      <td>22</td>\n",
              "      <td>mcdonaldmario@gmail.com</td>\n",
              "      <td>(Decimal('-81.2874995'), Decimal('-28.805800'))</td>\n",
              "      <td>Production manager</td>\n",
              "      <td>RJ</td>\n",
              "      <td>$914.52</td>\n",
              "      <td>Conservador</td>\n",
              "      <td>0.00</td>\n",
              "      <td>5532.35</td>\n",
              "      <td>2861.32</td>\n",
              "      <td>0.00</td>\n",
              "      <td>4921.77</td>\n",
              "      <td>2024.00</td>\n",
              "      <td>500.65</td>\n",
              "      <td>98.385080</td>\n",
              "      <td>56.611838</td>\n",
              "    </tr>\n",
              "    <tr>\n",
              "      <th>38753</th>\n",
              "      <td>id0038754</td>\n",
              "      <td>Vinícius Arnaldo de Pereira Mendes</td>\n",
              "      <td>Masc</td>\n",
              "      <td>2003-09-13</td>\n",
              "      <td>18</td>\n",
              "      <td>omartinez@hotmail.com</td>\n",
              "      <td>(Decimal('-37.248521'), Decimal('6.033254'))</td>\n",
              "      <td>Pension scheme manager</td>\n",
              "      <td>AL</td>\n",
              "      <td>$29076.19</td>\n",
              "      <td>Moderado</td>\n",
              "      <td>981.62</td>\n",
              "      <td>4825.10</td>\n",
              "      <td>0.00</td>\n",
              "      <td>18085.88</td>\n",
              "      <td>5161.07</td>\n",
              "      <td>2257.66</td>\n",
              "      <td>507.95</td>\n",
              "      <td>29.660050</td>\n",
              "      <td>47.371606</td>\n",
              "    </tr>\n",
              "  </tbody>\n",
              "</table>\n",
              "<p>38754 rows × 20 columns</p>\n",
              "</div>\n",
              "      <button class=\"colab-df-convert\" onclick=\"convertToInteractive('df-b7708365-e982-4a87-a0b1-8afbefa455d4')\"\n",
              "              title=\"Convert this dataframe to an interactive table.\"\n",
              "              style=\"display:none;\">\n",
              "        \n",
              "  <svg xmlns=\"http://www.w3.org/2000/svg\" height=\"24px\"viewBox=\"0 0 24 24\"\n",
              "       width=\"24px\">\n",
              "    <path d=\"M0 0h24v24H0V0z\" fill=\"none\"/>\n",
              "    <path d=\"M18.56 5.44l.94 2.06.94-2.06 2.06-.94-2.06-.94-.94-2.06-.94 2.06-2.06.94zm-11 1L8.5 8.5l.94-2.06 2.06-.94-2.06-.94L8.5 2.5l-.94 2.06-2.06.94zm10 10l.94 2.06.94-2.06 2.06-.94-2.06-.94-.94-2.06-.94 2.06-2.06.94z\"/><path d=\"M17.41 7.96l-1.37-1.37c-.4-.4-.92-.59-1.43-.59-.52 0-1.04.2-1.43.59L10.3 9.45l-7.72 7.72c-.78.78-.78 2.05 0 2.83L4 21.41c.39.39.9.59 1.41.59.51 0 1.02-.2 1.41-.59l7.78-7.78 2.81-2.81c.8-.78.8-2.07 0-2.86zM5.41 20L4 18.59l7.72-7.72 1.47 1.35L5.41 20z\"/>\n",
              "  </svg>\n",
              "      </button>\n",
              "      \n",
              "  <style>\n",
              "    .colab-df-container {\n",
              "      display:flex;\n",
              "      flex-wrap:wrap;\n",
              "      gap: 12px;\n",
              "    }\n",
              "\n",
              "    .colab-df-convert {\n",
              "      background-color: #E8F0FE;\n",
              "      border: none;\n",
              "      border-radius: 50%;\n",
              "      cursor: pointer;\n",
              "      display: none;\n",
              "      fill: #1967D2;\n",
              "      height: 32px;\n",
              "      padding: 0 0 0 0;\n",
              "      width: 32px;\n",
              "    }\n",
              "\n",
              "    .colab-df-convert:hover {\n",
              "      background-color: #E2EBFA;\n",
              "      box-shadow: 0px 1px 2px rgba(60, 64, 67, 0.3), 0px 1px 3px 1px rgba(60, 64, 67, 0.15);\n",
              "      fill: #174EA6;\n",
              "    }\n",
              "\n",
              "    [theme=dark] .colab-df-convert {\n",
              "      background-color: #3B4455;\n",
              "      fill: #D2E3FC;\n",
              "    }\n",
              "\n",
              "    [theme=dark] .colab-df-convert:hover {\n",
              "      background-color: #434B5C;\n",
              "      box-shadow: 0px 1px 3px 1px rgba(0, 0, 0, 0.15);\n",
              "      filter: drop-shadow(0px 1px 2px rgba(0, 0, 0, 0.3));\n",
              "      fill: #FFFFFF;\n",
              "    }\n",
              "  </style>\n",
              "\n",
              "      <script>\n",
              "        const buttonEl =\n",
              "          document.querySelector('#df-b7708365-e982-4a87-a0b1-8afbefa455d4 button.colab-df-convert');\n",
              "        buttonEl.style.display =\n",
              "          google.colab.kernel.accessAllowed ? 'block' : 'none';\n",
              "\n",
              "        async function convertToInteractive(key) {\n",
              "          const element = document.querySelector('#df-b7708365-e982-4a87-a0b1-8afbefa455d4');\n",
              "          const dataTable =\n",
              "            await google.colab.kernel.invokeFunction('convertToInteractive',\n",
              "                                                     [key], {});\n",
              "          if (!dataTable) return;\n",
              "\n",
              "          const docLinkHtml = 'Like what you see? Visit the ' +\n",
              "            '<a target=\"_blank\" href=https://colab.research.google.com/notebooks/data_table.ipynb>data table notebook</a>'\n",
              "            + ' to learn more about interactive tables.';\n",
              "          element.innerHTML = '';\n",
              "          dataTable['output_type'] = 'display_data';\n",
              "          await google.colab.output.renderOutput(dataTable, element);\n",
              "          const docLink = document.createElement('div');\n",
              "          docLink.innerHTML = docLinkHtml;\n",
              "          element.appendChild(docLink);\n",
              "        }\n",
              "      </script>\n",
              "    </div>\n",
              "  </div>\n",
              "  "
            ]
          },
          "metadata": {},
          "execution_count": 20
        }
      ],
      "source": [
        "df_id"
      ]
    },
    {
      "cell_type": "code",
      "execution_count": null,
      "id": "c882fbc3",
      "metadata": {
        "id": "c882fbc3"
      },
      "outputs": [],
      "source": [
        "df_id['Total']=df_id.iloc[:,11:18].sum(axis=1)\n",
        "df_id['Media']=df_id.iloc[:,18:20].mean(axis=1)\n",
        "df_id['Dominio']=df_id['Email'].apply(lambda email: email.split('@')[1])\n",
        "df_id['Salario']=df_id['Salario'].apply(lambda salario: float(salario.split('$')[1]))\n",
        "df_id.rename(columns={'Salario':'Renda'},inplace=True)"
      ]
    },
    {
      "cell_type": "code",
      "execution_count": null,
      "id": "26b2a5bb",
      "metadata": {
        "colab": {
          "base_uri": "https://localhost:8080/"
        },
        "id": "26b2a5bb",
        "outputId": "b281490f-7357-462a-951f-b5b8d0988995"
      },
      "outputs": [
        {
          "output_type": "execute_result",
          "data": {
            "text/plain": [
              "array(['Fem', 'Masc'], dtype=object)"
            ]
          },
          "metadata": {},
          "execution_count": 22
        }
      ],
      "source": [
        "#Checando os valores únicos da coluna sexo\n",
        "df_id['Sexo'].unique()"
      ]
    },
    {
      "cell_type": "code",
      "execution_count": null,
      "id": "0570d688",
      "metadata": {
        "id": "0570d688"
      },
      "outputs": [],
      "source": [
        "df_id['Sexo']=list(map(lambda sexo: 'Masculino' if sexo=='Masc' else 'Feminino',df_id['Sexo']))"
      ]
    },
    {
      "cell_type": "code",
      "execution_count": null,
      "id": "3e65ad0d",
      "metadata": {
        "id": "3e65ad0d"
      },
      "outputs": [],
      "source": [
        "df_id['Media']=np.round(df_id.Media,0).astype('int')"
      ]
    },
    {
      "cell_type": "code",
      "execution_count": null,
      "id": "b81a425b",
      "metadata": {
        "id": "b81a425b"
      },
      "outputs": [],
      "source": [
        "#Iterando a coluna Média para gerar a coluna NPS\n",
        "lista_NPS = []\n",
        "\n",
        "for idx,row in df_id.iterrows():\n",
        "\n",
        "  if row.Media < 50:\n",
        "    lista_NPS.append('Detrator')\n",
        "  elif row.Media > 80:\n",
        "    lista_NPS.append('Promotor')\n",
        "  elif (row.Media >=50 & row.Media <= 80): \n",
        "    lista_NPS.append('Neutro')\n",
        "\n",
        "df_id['NPS'] = pd.Series(lista_NPS)"
      ]
    },
    {
      "cell_type": "markdown",
      "id": "767fc018",
      "metadata": {
        "id": "767fc018"
      },
      "source": [
        "## 8 - Calcule os seguintes dados\n",
        "- Calcule o total investido em cada coluna Ativo (tente usar o apply)\n",
        "- Qual o menor valor investido em cada ativo?\n",
        "- Mostre a média e desvio padrão de cada ativo\n",
        "- Qual a idade do investidor mais velho?\n",
        "- Qual a mediana da coluna Média?"
      ]
    },
    {
      "cell_type": "code",
      "source": [
        "#Criando dataframe de investimentos maiores do que 0\n",
        "ativos = df_id.iloc[:,11:18]\n",
        "ativos_positivos = ativos[ativos>0]\n",
        "ativos_positivos.head()"
      ],
      "metadata": {
        "colab": {
          "base_uri": "https://localhost:8080/",
          "height": 206
        },
        "id": "m2PhNLt3coU4",
        "outputId": "691b1612-a388-4244-b702-5414f4ebf9dd"
      },
      "id": "m2PhNLt3coU4",
      "execution_count": null,
      "outputs": [
        {
          "output_type": "execute_result",
          "data": {
            "text/plain": [
              "   Ativo01  Ativo02  Ativo03   Ativo04  Ativo05  Ativo06  Ativo07\n",
              "0  1174.27  4980.98  2638.24       NaN  4480.91  2329.72   480.72\n",
              "1   842.12  5646.09  3336.07       NaN  5624.22  2669.98   504.17\n",
              "2   818.81  5516.52  3396.64       NaN  5033.83  2229.45   523.12\n",
              "3      NaN  5258.69  3723.10       NaN  5933.91      NaN   486.05\n",
              "4  1505.16  6415.30  3462.67  30841.35  6044.86  2198.89   512.98"
            ],
            "text/html": [
              "\n",
              "  <div id=\"df-7245f225-b362-45e6-b88f-4c336b26ef61\">\n",
              "    <div class=\"colab-df-container\">\n",
              "      <div>\n",
              "<style scoped>\n",
              "    .dataframe tbody tr th:only-of-type {\n",
              "        vertical-align: middle;\n",
              "    }\n",
              "\n",
              "    .dataframe tbody tr th {\n",
              "        vertical-align: top;\n",
              "    }\n",
              "\n",
              "    .dataframe thead th {\n",
              "        text-align: right;\n",
              "    }\n",
              "</style>\n",
              "<table border=\"1\" class=\"dataframe\">\n",
              "  <thead>\n",
              "    <tr style=\"text-align: right;\">\n",
              "      <th></th>\n",
              "      <th>Ativo01</th>\n",
              "      <th>Ativo02</th>\n",
              "      <th>Ativo03</th>\n",
              "      <th>Ativo04</th>\n",
              "      <th>Ativo05</th>\n",
              "      <th>Ativo06</th>\n",
              "      <th>Ativo07</th>\n",
              "    </tr>\n",
              "  </thead>\n",
              "  <tbody>\n",
              "    <tr>\n",
              "      <th>0</th>\n",
              "      <td>1174.27</td>\n",
              "      <td>4980.98</td>\n",
              "      <td>2638.24</td>\n",
              "      <td>NaN</td>\n",
              "      <td>4480.91</td>\n",
              "      <td>2329.72</td>\n",
              "      <td>480.72</td>\n",
              "    </tr>\n",
              "    <tr>\n",
              "      <th>1</th>\n",
              "      <td>842.12</td>\n",
              "      <td>5646.09</td>\n",
              "      <td>3336.07</td>\n",
              "      <td>NaN</td>\n",
              "      <td>5624.22</td>\n",
              "      <td>2669.98</td>\n",
              "      <td>504.17</td>\n",
              "    </tr>\n",
              "    <tr>\n",
              "      <th>2</th>\n",
              "      <td>818.81</td>\n",
              "      <td>5516.52</td>\n",
              "      <td>3396.64</td>\n",
              "      <td>NaN</td>\n",
              "      <td>5033.83</td>\n",
              "      <td>2229.45</td>\n",
              "      <td>523.12</td>\n",
              "    </tr>\n",
              "    <tr>\n",
              "      <th>3</th>\n",
              "      <td>NaN</td>\n",
              "      <td>5258.69</td>\n",
              "      <td>3723.10</td>\n",
              "      <td>NaN</td>\n",
              "      <td>5933.91</td>\n",
              "      <td>NaN</td>\n",
              "      <td>486.05</td>\n",
              "    </tr>\n",
              "    <tr>\n",
              "      <th>4</th>\n",
              "      <td>1505.16</td>\n",
              "      <td>6415.30</td>\n",
              "      <td>3462.67</td>\n",
              "      <td>30841.35</td>\n",
              "      <td>6044.86</td>\n",
              "      <td>2198.89</td>\n",
              "      <td>512.98</td>\n",
              "    </tr>\n",
              "  </tbody>\n",
              "</table>\n",
              "</div>\n",
              "      <button class=\"colab-df-convert\" onclick=\"convertToInteractive('df-7245f225-b362-45e6-b88f-4c336b26ef61')\"\n",
              "              title=\"Convert this dataframe to an interactive table.\"\n",
              "              style=\"display:none;\">\n",
              "        \n",
              "  <svg xmlns=\"http://www.w3.org/2000/svg\" height=\"24px\"viewBox=\"0 0 24 24\"\n",
              "       width=\"24px\">\n",
              "    <path d=\"M0 0h24v24H0V0z\" fill=\"none\"/>\n",
              "    <path d=\"M18.56 5.44l.94 2.06.94-2.06 2.06-.94-2.06-.94-.94-2.06-.94 2.06-2.06.94zm-11 1L8.5 8.5l.94-2.06 2.06-.94-2.06-.94L8.5 2.5l-.94 2.06-2.06.94zm10 10l.94 2.06.94-2.06 2.06-.94-2.06-.94-.94-2.06-.94 2.06-2.06.94z\"/><path d=\"M17.41 7.96l-1.37-1.37c-.4-.4-.92-.59-1.43-.59-.52 0-1.04.2-1.43.59L10.3 9.45l-7.72 7.72c-.78.78-.78 2.05 0 2.83L4 21.41c.39.39.9.59 1.41.59.51 0 1.02-.2 1.41-.59l7.78-7.78 2.81-2.81c.8-.78.8-2.07 0-2.86zM5.41 20L4 18.59l7.72-7.72 1.47 1.35L5.41 20z\"/>\n",
              "  </svg>\n",
              "      </button>\n",
              "      \n",
              "  <style>\n",
              "    .colab-df-container {\n",
              "      display:flex;\n",
              "      flex-wrap:wrap;\n",
              "      gap: 12px;\n",
              "    }\n",
              "\n",
              "    .colab-df-convert {\n",
              "      background-color: #E8F0FE;\n",
              "      border: none;\n",
              "      border-radius: 50%;\n",
              "      cursor: pointer;\n",
              "      display: none;\n",
              "      fill: #1967D2;\n",
              "      height: 32px;\n",
              "      padding: 0 0 0 0;\n",
              "      width: 32px;\n",
              "    }\n",
              "\n",
              "    .colab-df-convert:hover {\n",
              "      background-color: #E2EBFA;\n",
              "      box-shadow: 0px 1px 2px rgba(60, 64, 67, 0.3), 0px 1px 3px 1px rgba(60, 64, 67, 0.15);\n",
              "      fill: #174EA6;\n",
              "    }\n",
              "\n",
              "    [theme=dark] .colab-df-convert {\n",
              "      background-color: #3B4455;\n",
              "      fill: #D2E3FC;\n",
              "    }\n",
              "\n",
              "    [theme=dark] .colab-df-convert:hover {\n",
              "      background-color: #434B5C;\n",
              "      box-shadow: 0px 1px 3px 1px rgba(0, 0, 0, 0.15);\n",
              "      filter: drop-shadow(0px 1px 2px rgba(0, 0, 0, 0.3));\n",
              "      fill: #FFFFFF;\n",
              "    }\n",
              "  </style>\n",
              "\n",
              "      <script>\n",
              "        const buttonEl =\n",
              "          document.querySelector('#df-7245f225-b362-45e6-b88f-4c336b26ef61 button.colab-df-convert');\n",
              "        buttonEl.style.display =\n",
              "          google.colab.kernel.accessAllowed ? 'block' : 'none';\n",
              "\n",
              "        async function convertToInteractive(key) {\n",
              "          const element = document.querySelector('#df-7245f225-b362-45e6-b88f-4c336b26ef61');\n",
              "          const dataTable =\n",
              "            await google.colab.kernel.invokeFunction('convertToInteractive',\n",
              "                                                     [key], {});\n",
              "          if (!dataTable) return;\n",
              "\n",
              "          const docLinkHtml = 'Like what you see? Visit the ' +\n",
              "            '<a target=\"_blank\" href=https://colab.research.google.com/notebooks/data_table.ipynb>data table notebook</a>'\n",
              "            + ' to learn more about interactive tables.';\n",
              "          element.innerHTML = '';\n",
              "          dataTable['output_type'] = 'display_data';\n",
              "          await google.colab.output.renderOutput(dataTable, element);\n",
              "          const docLink = document.createElement('div');\n",
              "          docLink.innerHTML = docLinkHtml;\n",
              "          element.appendChild(docLink);\n",
              "        }\n",
              "      </script>\n",
              "    </div>\n",
              "  </div>\n",
              "  "
            ]
          },
          "metadata": {},
          "execution_count": 26
        }
      ]
    },
    {
      "cell_type": "code",
      "execution_count": null,
      "id": "992d886b",
      "metadata": {
        "id": "992d886b",
        "colab": {
          "base_uri": "https://localhost:8080/"
        },
        "outputId": "91d46b48-c9f3-4bb8-cb81-fb3ade68da38"
      },
      "outputs": [
        {
          "output_type": "stream",
          "name": "stdout",
          "text": [
            "[32755689.89, 168079806.78, 102330550.86000001, 407133967.35, 172066821.09999996, 44626844.36, 19379032.72]\n"
          ]
        }
      ],
      "source": [
        "#Total investido por ativo, feito via compreensão de lista\n",
        "total_ativos = [ativos_positivos[col].sum(axis=0) for col in ativos_positivos.columns]\n",
        "print(total_ativos)"
      ]
    },
    {
      "cell_type": "code",
      "source": [
        "min_ativos = [ativos_positivos[col].min(axis=0) for col in ativos_positivos.columns]\n",
        "print(min_ativos)"
      ],
      "metadata": {
        "colab": {
          "base_uri": "https://localhost:8080/"
        },
        "id": "9bX2iz_E3fFX",
        "outputId": "08f0e061-f4e7-4366-c063-7e4249548c42"
      },
      "id": "9bX2iz_E3fFX",
      "execution_count": null,
      "outputs": [
        {
          "output_type": "stream",
          "name": "stdout",
          "text": [
            "[800.01, 4500.05, 2500.01, 5000.81, 4000.14, 2000.04, 462.93]\n"
          ]
        }
      ]
    },
    {
      "cell_type": "code",
      "source": [
        "media_ativos = [ativos_positivos[col].mean(axis=0) for col in ativos_positivos.columns]\n",
        "stdev_ativos = [ativos_positivos[col].std(axis=0) for col in ativos_positivos.columns]\n",
        "\n",
        "print(media_ativos)\n",
        "print(stdev_ativos)"
      ],
      "metadata": {
        "colab": {
          "base_uri": "https://localhost:8080/"
        },
        "id": "5ykhl4-_3e3C",
        "outputId": "c2aab6ec-667e-4bc5-9e53-d75f4c8cd57c"
      },
      "id": "5ykhl4-_3e3C",
      "execution_count": null,
      "outputs": [
        {
          "output_type": "stream",
          "name": "stdout",
          "text": [
            "[1128.3393003789183, 5147.296097874686, 3140.4189307963793, 15153.68174154167, 5284.1206614869625, 2319.482555093555, 500.05245187593533]\n",
            "[218.82270950635808, 398.6764997951093, 395.7146001863656, 6972.128306044476, 795.1812721190705, 240.66964111910877, 9.998218104115871]\n"
          ]
        }
      ]
    },
    {
      "cell_type": "code",
      "source": [
        "#Idade dos investidores mais velhos\n",
        "maior_idade = df_id[df_id.Idade == df_id.Idade.max()]['Idade'].unique()\n",
        "maior_idade"
      ],
      "metadata": {
        "colab": {
          "base_uri": "https://localhost:8080/"
        },
        "id": "wtpv7BaS3gLo",
        "outputId": "c9ca739c-ccf8-41f8-afb9-db2f13431b19"
      },
      "id": "wtpv7BaS3gLo",
      "execution_count": null,
      "outputs": [
        {
          "output_type": "execute_result",
          "data": {
            "text/plain": [
              "array([51])"
            ]
          },
          "metadata": {},
          "execution_count": 30
        }
      ]
    },
    {
      "cell_type": "code",
      "source": [
        "#Mediana das notas médias dos investidores\n",
        "mediana_nota_media = df_id.Media.median(axis=0)\n",
        "mediana_nota_media"
      ],
      "metadata": {
        "colab": {
          "base_uri": "https://localhost:8080/"
        },
        "id": "R8yl40J13f9K",
        "outputId": "9451572c-abdc-4731-fa24-454a419cbb8c"
      },
      "id": "R8yl40J13f9K",
      "execution_count": null,
      "outputs": [
        {
          "output_type": "execute_result",
          "data": {
            "text/plain": [
              "50.0"
            ]
          },
          "metadata": {},
          "execution_count": 31
        }
      ]
    },
    {
      "cell_type": "markdown",
      "id": "0f074caf",
      "metadata": {
        "id": "0f074caf"
      },
      "source": [
        "## 9 - Responder as perguntas abaixo\n",
        "\n",
        "- Quantos investidores são promotores?\n",
        "- Quantos investidores são do sexo feminino?\n",
        "- Quantos investidores investiram mais de 16000 no Ativo04?\n",
        "- Quantos investidores investiram mais de 16000 no Ativo04 e menos de 5000 no Ativo05?\n",
        "- Quantos investidores do sexo feminino tem mais de 25 anos e investiu menos de 10000? (bonus: por que esse dado seria importante para a estratégia da nossa empresa?\n",
        "\n",
        "- Quantos investidores tem em cada estado (dica: use groupby)\n",
        "- Qual é a soma do total investido por cada estado?\n",
        "- Como os investidores se distribuem em promotores, detratores e neutros?\n",
        "- Qual é a média do total investido por promotores, detratores e neutros?\n"
      ]
    },
    {
      "cell_type": "code",
      "execution_count": null,
      "id": "G6L0Qjjgyz1L",
      "metadata": {
        "id": "G6L0Qjjgyz1L",
        "colab": {
          "base_uri": "https://localhost:8080/"
        },
        "outputId": "fc063e7a-4884-4cde-9413-dfdd587a1f5f"
      },
      "outputs": [
        {
          "output_type": "execute_result",
          "data": {
            "text/plain": [
              "2574"
            ]
          },
          "metadata": {},
          "execution_count": 42
        }
      ],
      "source": [
        "promotores = (df_id['NPS']=='Promotor').sum()\n",
        "promotores"
      ]
    },
    {
      "cell_type": "code",
      "source": [
        "fem = (df_id['Sexo']=='Feminino').sum()\n",
        "fem"
      ],
      "metadata": {
        "colab": {
          "base_uri": "https://localhost:8080/"
        },
        "id": "FKhj5k61jtfM",
        "outputId": "1f8aa229-b585-4411-afa3-ce8ceab7f123"
      },
      "id": "FKhj5k61jtfM",
      "execution_count": null,
      "outputs": [
        {
          "output_type": "execute_result",
          "data": {
            "text/plain": [
              "19385"
            ]
          },
          "metadata": {},
          "execution_count": 44
        }
      ]
    },
    {
      "cell_type": "code",
      "source": [
        "invest_4 = len(df_id[df_id.Ativo04>16000])\n",
        "invest_4"
      ],
      "metadata": {
        "colab": {
          "base_uri": "https://localhost:8080/"
        },
        "id": "OAc2l3FTj9eI",
        "outputId": "6fc92965-05f0-4663-ead7-d2c4a1bed198"
      },
      "id": "OAc2l3FTj9eI",
      "execution_count": null,
      "outputs": [
        {
          "output_type": "execute_result",
          "data": {
            "text/plain": [
              "10689"
            ]
          },
          "metadata": {},
          "execution_count": 35
        }
      ]
    },
    {
      "cell_type": "code",
      "source": [
        "invest_4_5 = len(df_id[(df_id.Ativo04>16000) & (df_id.Ativo05 < 5000)])\n",
        "invest_4_5"
      ],
      "metadata": {
        "colab": {
          "base_uri": "https://localhost:8080/"
        },
        "id": "jDsMZYmGktWD",
        "outputId": "ae57bfb8-9f02-47ac-8a62-2b8f296197a0"
      },
      "id": "jDsMZYmGktWD",
      "execution_count": null,
      "outputs": [
        {
          "output_type": "execute_result",
          "data": {
            "text/plain": [
              "5374"
            ]
          },
          "metadata": {},
          "execution_count": 36
        }
      ]
    },
    {
      "cell_type": "code",
      "source": [
        "len(df_id)"
      ],
      "metadata": {
        "colab": {
          "base_uri": "https://localhost:8080/"
        },
        "id": "1Sq86yok_F0X",
        "outputId": "668ca9c4-5bdd-4b3d-8a17-d9b6cb7ff193"
      },
      "id": "1Sq86yok_F0X",
      "execution_count": null,
      "outputs": [
        {
          "output_type": "execute_result",
          "data": {
            "text/plain": [
              "38754"
            ]
          },
          "metadata": {},
          "execution_count": 45
        }
      ]
    },
    {
      "cell_type": "code",
      "source": [
        "fem_25_10k = len(df_id[(df_id.Sexo=='Feminino')&(df_id.Idade>25)&(df_id.Total<10000)])\n",
        "print(fem_25_10k)\n",
        "print(f'Em uma base de dados de um total de {len(df_id)} clientes, apenas {fem_25_10k} são mulheres com mais de 25 anos e menos de 10 mil investidos.\\n'\\\n",
        "      'A falta de investidoras nesse perfil significa que podem ser feitas campanhas pra incentivar e tentar captar mais membros desse público.\\n'\\\n",
        "      'Como por exemplo: algum programa de mulheres investidoras, palestras, educação financeira, conversas com gestores de investimento.')"
      ],
      "metadata": {
        "colab": {
          "base_uri": "https://localhost:8080/"
        },
        "id": "yPBle_g0lX0O",
        "outputId": "5e91e457-dcfd-4573-c629-e7851ac69105"
      },
      "id": "yPBle_g0lX0O",
      "execution_count": null,
      "outputs": [
        {
          "output_type": "stream",
          "name": "stdout",
          "text": [
            "442\n",
            "Em uma base de dados de um total de 38754 clientes, apenas 442 são mulheres com mais de 25 anos e menos de 10 mil investidos.\n",
            "A falta de investidoras nesse perfil significa que podem ser feitas campanhas pra incentivar e tentar captar mais membros desse público.\n",
            "Como por exemplo: algum programa de mulheres investidoras, palestras, educação financeira, propaganda, conversas com gestores de investimento.\n"
          ]
        }
      ]
    },
    {
      "cell_type": "code",
      "source": [
        "group_estado = df_id.groupby('Estado')['Nome'].count()\n",
        "group_estado"
      ],
      "metadata": {
        "colab": {
          "base_uri": "https://localhost:8080/"
        },
        "id": "1mCwUhN5mqUw",
        "outputId": "381bc0e3-3060-43ea-91f6-08dd27715ec8"
      },
      "id": "1mCwUhN5mqUw",
      "execution_count": null,
      "outputs": [
        {
          "output_type": "execute_result",
          "data": {
            "text/plain": [
              "Estado\n",
              "AC    1435\n",
              "AL    1376\n",
              "AM    1495\n",
              "AP    1438\n",
              "BA    1484\n",
              "CE    1465\n",
              "DF    1470\n",
              "ES    1472\n",
              "GO    1394\n",
              "MA    1454\n",
              "MG    1407\n",
              "MS    1436\n",
              "MT    1390\n",
              "PA    1421\n",
              "PB    1405\n",
              "PE    1477\n",
              "PI    1503\n",
              "PR    1371\n",
              "RJ    1466\n",
              "RN    1472\n",
              "RO    1440\n",
              "RR    1495\n",
              "RS    1393\n",
              "SC    1430\n",
              "SE    1319\n",
              "SP    1464\n",
              "TO    1382\n",
              "Name: Nome, dtype: int64"
            ]
          },
          "metadata": {},
          "execution_count": 38
        }
      ]
    },
    {
      "cell_type": "code",
      "source": [
        "soma_estado = df_id.groupby('Estado')['Total'].sum()\n",
        "soma_estado"
      ],
      "metadata": {
        "colab": {
          "base_uri": "https://localhost:8080/"
        },
        "id": "An7ffFrcm-Ev",
        "outputId": "07d0781b-0ed1-4706-a627-7adaa118f679"
      },
      "id": "An7ffFrcm-Ev",
      "execution_count": null,
      "outputs": [
        {
          "output_type": "execute_result",
          "data": {
            "text/plain": [
              "Estado\n",
              "AC    35362505.80\n",
              "AL    33763479.45\n",
              "AM    37036424.81\n",
              "AP    34996432.12\n",
              "BA    36188507.51\n",
              "CE    35959807.36\n",
              "DF    36277409.37\n",
              "ES    36112618.12\n",
              "GO    34234860.26\n",
              "MA    34952752.65\n",
              "MG    33820223.17\n",
              "MS    35279491.41\n",
              "MT    34206427.27\n",
              "PA    34877463.97\n",
              "PB    34248820.05\n",
              "PE    35353945.12\n",
              "PI    37038930.90\n",
              "PR    33002424.19\n",
              "RJ    35910946.83\n",
              "RN    35755623.32\n",
              "RO    34341430.55\n",
              "RR    36543504.21\n",
              "RS    34300026.29\n",
              "SC    35223280.67\n",
              "SE    32496697.65\n",
              "SP    35624582.45\n",
              "TO    33464097.56\n",
              "Name: Total, dtype: float64"
            ]
          },
          "metadata": {},
          "execution_count": 39
        }
      ]
    },
    {
      "cell_type": "code",
      "source": [
        "perfil_NPS = df_id.NPS.value_counts()\n",
        "perfil_NPS"
      ],
      "metadata": {
        "colab": {
          "base_uri": "https://localhost:8080/"
        },
        "id": "VaFxxvE7nHVp",
        "outputId": "03803f5e-569b-4703-c757-5044789e174e"
      },
      "id": "VaFxxvE7nHVp",
      "execution_count": null,
      "outputs": [
        {
          "output_type": "execute_result",
          "data": {
            "text/plain": [
              "Detrator    19075\n",
              "Neutro      17105\n",
              "Promotor     2574\n",
              "Name: NPS, dtype: int64"
            ]
          },
          "metadata": {},
          "execution_count": 40
        }
      ]
    },
    {
      "cell_type": "code",
      "source": [
        "media_total_NPS = df_id.groupby('NPS')['Total'].mean()\n",
        "media_total_NPS"
      ],
      "metadata": {
        "colab": {
          "base_uri": "https://localhost:8080/"
        },
        "id": "C4uGk-eQnYLu",
        "outputId": "ed6a146b-ff7f-473c-c795-b06c7a1d4ee0"
      },
      "id": "C4uGk-eQnYLu",
      "execution_count": null,
      "outputs": [
        {
          "output_type": "execute_result",
          "data": {
            "text/plain": [
              "NPS\n",
              "Detrator    24381.763343\n",
              "Neutro      24461.202684\n",
              "Promotor    24429.566974\n",
              "Name: Total, dtype: float64"
            ]
          },
          "metadata": {},
          "execution_count": 41
        }
      ]
    }
  ],
  "metadata": {
    "colab": {
      "provenance": []
    },
    "kernelspec": {
      "display_name": "Python 3",
      "language": "python",
      "name": "python3"
    },
    "language_info": {
      "codemirror_mode": {
        "name": "ipython",
        "version": 3
      },
      "file_extension": ".py",
      "mimetype": "text/x-python",
      "name": "python",
      "nbconvert_exporter": "python",
      "pygments_lexer": "ipython3",
      "version": "3.11.2"
    },
    "varInspector": {
      "cols": {
        "lenName": 16,
        "lenType": 16,
        "lenVar": 40
      },
      "kernels_config": {
        "python": {
          "delete_cmd_postfix": "",
          "delete_cmd_prefix": "del ",
          "library": "var_list.py",
          "varRefreshCmd": "print(var_dic_list())"
        },
        "r": {
          "delete_cmd_postfix": ") ",
          "delete_cmd_prefix": "rm(",
          "library": "var_list.r",
          "varRefreshCmd": "cat(var_dic_list()) "
        }
      },
      "types_to_exclude": [
        "module",
        "function",
        "builtin_function_or_method",
        "instance",
        "_Feature"
      ],
      "window_display": false
    }
  },
  "nbformat": 4,
  "nbformat_minor": 5
}